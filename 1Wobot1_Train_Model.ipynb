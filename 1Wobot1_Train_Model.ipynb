{
  "nbformat": 4,
  "nbformat_minor": 0,
  "metadata": {
    "colab": {
      "name": "1Wobot1_Train_Model.ipynb",
      "provenance": [],
      "collapsed_sections": [],
      "include_colab_link": true
    },
    "kernelspec": {
      "name": "python3",
      "display_name": "Python 3"
    },
    "accelerator": "GPU"
  },
  "cells": [
    {
      "cell_type": "markdown",
      "metadata": {
        "id": "view-in-github",
        "colab_type": "text"
      },
      "source": [
        "<a href=\"https://colab.research.google.com/github/gtgindia/-Segmentation-based-industrial-defect-detection/blob/main/1Wobot1_Train_Model.ipynb\" target=\"_parent\"><img src=\"https://colab.research.google.com/assets/colab-badge.svg\" alt=\"Open In Colab\"/></a>"
      ]
    },
    {
      "cell_type": "code",
      "metadata": {
        "id": "tueLDeNkDA3C"
      },
      "source": [
        "import tensorflow as tf\r\n"
      ],
      "execution_count": null,
      "outputs": []
    },
    {
      "cell_type": "code",
      "metadata": {
        "id": "S_Yl0woKCufU"
      },
      "source": [
        "color_mode = \"grayscale\"\r\n",
        "number_colour_layers = 1\r\n",
        "image_size = (512, 512)\r\n",
        "image_shape = image_size + (number_colour_layers,)"
      ],
      "execution_count": null,
      "outputs": []
    },
    {
      "cell_type": "code",
      "metadata": {
        "colab": {
          "base_uri": "https://localhost:8080/"
        },
        "id": "3w2LRdF4PcIk",
        "outputId": "44e37d78-6c01-4375-b13e-543a2b63f782"
      },
      "source": [
        "image_shape"
      ],
      "execution_count": null,
      "outputs": [
        {
          "output_type": "execute_result",
          "data": {
            "text/plain": [
              "(512, 512, 1)"
            ]
          },
          "metadata": {
            "tags": []
          },
          "execution_count": 3
        }
      ]
    },
    {
      "cell_type": "code",
      "metadata": {
        "id": "IqgYWkTsCxRC"
      },
      "source": [
        "training_data_path = \"/content/drive/MyDrive/Wobot/WithDef/\"\r\n",
        "#test_data_path = \"./casting_data/casting_data/test\"\r\n",
        "SEED = 42"
      ],
      "execution_count": null,
      "outputs": []
    },
    {
      "cell_type": "code",
      "metadata": {
        "id": "Q7HmNXueC9IL"
      },
      "source": [
        "def get_image_data(data_path, color_mode, image_size, seed = None):\r\n",
        "\r\n",
        "    return tf.keras.preprocessing.image_dataset_from_directory(\r\n",
        "        data_path,\r\n",
        "        color_mode=color_mode,\r\n",
        "        image_size=image_size,\r\n",
        "        seed=seed,\r\n",
        "        batch_size=6\r\n",
        "    )"
      ],
      "execution_count": null,
      "outputs": []
    },
    {
      "cell_type": "code",
      "metadata": {
        "colab": {
          "base_uri": "https://localhost:8080/"
        },
        "id": "1TQDbS_UDAHZ",
        "outputId": "5226cb77-d33b-4e74-9c9a-7b5d5c7a84dd"
      },
      "source": [
        "training_ds = get_image_data(\r\n",
        "    training_data_path,\r\n",
        "    color_mode,\r\n",
        "    image_size,\r\n",
        "    SEED\r\n",
        ")"
      ],
      "execution_count": null,
      "outputs": [
        {
          "output_type": "stream",
          "text": [
            "Found 780 files belonging to 6 classes.\n"
          ],
          "name": "stdout"
        }
      ]
    },
    {
      "cell_type": "code",
      "metadata": {
        "id": "D0uz-hUBDyDq"
      },
      "source": [
        "preprocessing_layers = [\r\n",
        "    tf.keras.layers.experimental.preprocessing.Rescaling(1./255, input_shape=(512,512,1))\r\n",
        "]"
      ],
      "execution_count": null,
      "outputs": []
    },
    {
      "cell_type": "code",
      "metadata": {
        "id": "9sAll_EcDylv"
      },
      "source": [
        "def conv_2d_pooling_layers(filters, number_colour_layers):\r\n",
        "    return [\r\n",
        "        tf.keras.layers.Conv2D(\r\n",
        "            filters,\r\n",
        "            number_colour_layers,\r\n",
        "            padding='same',\r\n",
        "            activation='relu'\r\n",
        "        ),\r\n",
        "        tf.keras.layers.MaxPooling2D()\r\n",
        "    ]\r\n",
        "core_layers = \\\r\n",
        "    conv_2d_pooling_layers(16, number_colour_layers) + \\\r\n",
        "    conv_2d_pooling_layers(32, number_colour_layers) + \\\r\n",
        "    conv_2d_pooling_layers(64, number_colour_layers)"
      ],
      "execution_count": null,
      "outputs": []
    },
    {
      "cell_type": "code",
      "metadata": {
        "id": "sQNqhr0eD00V"
      },
      "source": [
        "class_names = training_ds.class_names\r\n",
        "number_classes = len(class_names)\r\n",
        "dense_layers = [\r\n",
        "    tf.keras.layers.Flatten(),\r\n",
        "    tf.keras.layers.Dense(128, activation='relu'),\r\n",
        "    tf.keras.layers.Dense(number_classes)\r\n",
        "]"
      ],
      "execution_count": null,
      "outputs": []
    },
    {
      "cell_type": "code",
      "metadata": {
        "id": "0VS1dEffD2_h"
      },
      "source": [
        "model = tf.keras.Sequential(\r\n",
        "    preprocessing_layers +\r\n",
        "    core_layers +\r\n",
        "    dense_layers\r\n",
        ")"
      ],
      "execution_count": null,
      "outputs": []
    },
    {
      "cell_type": "code",
      "metadata": {
        "id": "nbrt_eY2Epf7"
      },
      "source": [
        "loss = tf.keras.losses.SparseCategoricalCrossentropy(from_logits=True)\r\n",
        "model.compile(\r\n",
        "    optimizer='adam',\r\n",
        "    loss=loss,\r\n",
        "    metrics=['accuracy']\r\n",
        ")"
      ],
      "execution_count": null,
      "outputs": []
    },
    {
      "cell_type": "code",
      "metadata": {
        "id": "WlwT6aUOHBzS"
      },
      "source": [
        "callback = tf.keras.callbacks.EarlyStopping(\r\n",
        "    monitor='acc', patience=3, mode='auto'\r\n",
        ")"
      ],
      "execution_count": null,
      "outputs": []
    },
    {
      "cell_type": "code",
      "metadata": {
        "colab": {
          "base_uri": "https://localhost:8080/"
        },
        "id": "JqKTT_zFErZy",
        "outputId": "f0ce9307-9ab0-4d21-fc3f-e8d67db86396"
      },
      "source": [
        "\r\n",
        "history = model.fit(\r\n",
        "    training_ds,epochs = 4,callbacks = [callback]\r\n",
        ")"
      ],
      "execution_count": null,
      "outputs": [
        {
          "output_type": "stream",
          "text": [
            "Epoch 1/8\n",
            "130/130 [==============================] - 677s 5s/step - loss: 3.0254 - accuracy: 0.4714\n",
            "Epoch 2/8\n",
            "130/130 [==============================] - 7s 50ms/step - loss: 0.0462 - accuracy: 0.9842\n",
            "Epoch 3/8\n",
            "130/130 [==============================] - 7s 50ms/step - loss: 0.0022 - accuracy: 1.0000\n",
            "Epoch 4/8\n",
            "130/130 [==============================] - 7s 50ms/step - loss: 7.1531e-04 - accuracy: 1.0000\n",
            "Epoch 5/8\n",
            "130/130 [==============================] - 7s 51ms/step - loss: 3.1633e-04 - accuracy: 1.0000\n",
            "Epoch 6/8\n",
            "130/130 [==============================] - 7s 50ms/step - loss: 1.8330e-04 - accuracy: 1.0000\n",
            "Epoch 7/8\n",
            "130/130 [==============================] - 7s 50ms/step - loss: 9.6761e-05 - accuracy: 1.0000\n",
            "Epoch 8/8\n",
            "130/130 [==============================] - 7s 50ms/step - loss: 7.0771e-05 - accuracy: 1.0000\n"
          ],
          "name": "stdout"
        }
      ]
    },
    {
      "cell_type": "code",
      "metadata": {
        "id": "RBptUbCxEuDC"
      },
      "source": [
        "model.save(\"/content/drive/MyDrive/Wobot/Model1/2Wobot1_train_model.h5\")"
      ],
      "execution_count": null,
      "outputs": []
    }
  ]
}